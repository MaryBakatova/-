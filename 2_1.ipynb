{
  "nbformat": 4,
  "nbformat_minor": 0,
  "metadata": {
    "colab": {
      "provenance": [],
      "authorship_tag": "ABX9TyNzp1FGSRCCUAtKPli9Zs3u",
      "include_colab_link": true
    },
    "kernelspec": {
      "name": "python3",
      "display_name": "Python 3"
    },
    "language_info": {
      "name": "python"
    }
  },
  "cells": [
    {
      "cell_type": "markdown",
      "metadata": {
        "id": "view-in-github",
        "colab_type": "text"
      },
      "source": [
        "<a href=\"https://colab.research.google.com/github/MaryBakatova/-/blob/main/2_1.ipynb\" target=\"_parent\"><img src=\"https://colab.research.google.com/assets/colab-badge.svg\" alt=\"Open In Colab\"/></a>"
      ]
    },
    {
      "cell_type": "markdown",
      "source": [],
      "metadata": {
        "id": "wVFBR9UzvxbI"
      }
    },
    {
      "cell_type": "markdown",
      "source": [
        "# **Создание DataFrame**"
      ],
      "metadata": {
        "id": "44D4pcwEvyrv"
      }
    },
    {
      "cell_type": "code",
      "execution_count": null,
      "metadata": {
        "colab": {
          "base_uri": "https://localhost:8080/"
        },
        "id": "mFzVjrO4qwv7",
        "outputId": "87c97286-a7fa-41e0-b1ac-8759110ea764"
      },
      "outputs": [
        {
          "output_type": "stream",
          "name": "stdout",
          "text": [
            "Исходный DataFrame:\n",
            "      Name  Age         City\n",
            "0    Alice   24     New York\n",
            "1      Bob   27  Los Angeles\n",
            "2  Charlie   22      Chicago\n",
            "3    David   32      Houston\n"
          ]
        }
      ],
      "source": [
        "import pandas as pd\n",
        "data = {\n",
        "    'Name': ['Alice', 'Bob', 'Charlie', 'David'],\n",
        "    'Age': [24, 27, 22, 32],\n",
        "    'City': ['New York', 'Los Angeles', 'Chicago', 'Houston']\n",
        "}\n",
        "df = pd.DataFrame(data)\n",
        "\n",
        "print('Исходный DataFrame:')\n",
        "print(df)"
      ]
    },
    {
      "cell_type": "markdown",
      "source": [
        "# **Фильтрация**"
      ],
      "metadata": {
        "id": "_HzhUnbnvq7_"
      }
    },
    {
      "cell_type": "code",
      "source": [
        "filtred_df = df[df['Age'] > 25]  #фильтрация по столбцу\n",
        "print('\\nПользователи старше 25 лет:')\n",
        "print(filtred_df)"
      ],
      "metadata": {
        "colab": {
          "base_uri": "https://localhost:8080/"
        },
        "id": "sYqUY_aiq3V3",
        "outputId": "d58f8706-6b5a-49ff-eeb5-4c7e367c17b0"
      },
      "execution_count": null,
      "outputs": [
        {
          "output_type": "stream",
          "name": "stdout",
          "text": [
            "\n",
            "Пользователи старше 25 лет:\n",
            "    Name  Age         City\n",
            "1    Bob   27  Los Angeles\n",
            "3  David   32      Houston\n"
          ]
        }
      ]
    },
    {
      "cell_type": "markdown",
      "source": [
        "# **сохранение файла в CSV формат**"
      ],
      "metadata": {
        "id": "Ddk86-JrvjL4"
      }
    },
    {
      "cell_type": "code",
      "source": [
        "# сохранение файла в CSV  формат\n",
        "\n",
        "df.to_csv('output.csv', index = False)\n",
        "print('\\nDataFrame сохранен в файл \"output.csv\".')"
      ],
      "metadata": {
        "colab": {
          "base_uri": "https://localhost:8080/"
        },
        "id": "nx-Caolrq-KX",
        "outputId": "f84d4e27-b75a-4f9d-92ec-f63ce25a7228"
      },
      "execution_count": null,
      "outputs": [
        {
          "output_type": "stream",
          "name": "stdout",
          "text": [
            "\n",
            "DataFrame сохранен в файл \"output.csv\".\n"
          ]
        }
      ]
    },
    {
      "cell_type": "markdown",
      "source": [
        "# **Группировка**"
      ],
      "metadata": {
        "id": "IntLqn2PvcHR"
      }
    },
    {
      "cell_type": "code",
      "source": [
        "import pandas as pd\n",
        "data = {\n",
        "    'Name': ['Alice', 'Bob', 'Charlie', 'David', 'Eve'],\n",
        "    'Age': [24, 27, 22, 32, 24],\n",
        "    'City': ['New York', 'Los Angeles', 'Chicago', 'Houston', 'New York'],\n",
        "    'Salary': [70000, 80000, 50000, 90000, 75000]\n",
        "}\n",
        "df = pd.DataFrame(data)\n",
        "\n",
        "#группировка по городу и вычисление ср зп (agg - агрегация по salary and age)\n",
        "grouped = df.groupby('City').agg({'Salary': 'mean', 'Age': 'mean'}).reset_index()\n",
        "\n",
        "print('Средняя зп и возраст по городам:')\n",
        "print(grouped)"
      ],
      "metadata": {
        "colab": {
          "base_uri": "https://localhost:8080/"
        },
        "id": "hloL7bQfr4rB",
        "outputId": "4d8e2302-c121-463c-f767-6ae61dcfd956"
      },
      "execution_count": null,
      "outputs": [
        {
          "output_type": "stream",
          "name": "stdout",
          "text": [
            "Средняя зп и возраст по городам:\n",
            "          City   Salary   Age\n",
            "0      Chicago  50000.0  22.0\n",
            "1      Houston  90000.0  32.0\n",
            "2  Los Angeles  80000.0  27.0\n",
            "3     New York  72500.0  24.0\n"
          ]
        }
      ]
    },
    {
      "cell_type": "markdown",
      "source": [
        "# **Обработка пропусков данных с библиотекой Numpy**"
      ],
      "metadata": {
        "id": "CmOTfPtBv3TQ"
      }
    },
    {
      "cell_type": "code",
      "source": [
        "import pandas as pd\n",
        "import numpy as np\n",
        "\n",
        "data = {\n",
        "    'Name': ['Alice', 'Bob', np.nan, 'David', 'Eve'],\n",
        "    'Age': [24, np.nan, 22, 32, 24],\n",
        "    'City': ['New York', 'Los Angeles', 'Chicago', np.nan, 'New York'],\n",
        "}\n",
        "df = pd.DataFrame(data)\n",
        "print(df)"
      ],
      "metadata": {
        "colab": {
          "base_uri": "https://localhost:8080/"
        },
        "id": "joB9fWUDv7np",
        "outputId": "b43fce58-59bb-4083-b09d-38fef69febb1"
      },
      "execution_count": null,
      "outputs": [
        {
          "output_type": "stream",
          "name": "stdout",
          "text": [
            "    Name   Age         City\n",
            "0  Alice  24.0     New York\n",
            "1    Bob   NaN  Los Angeles\n",
            "2    NaN  22.0      Chicago\n",
            "3  David  32.0          NaN\n",
            "4    Eve  24.0     New York\n"
          ]
        }
      ]
    },
    {
      "cell_type": "code",
      "source": [
        "df['Name'].fillna('Unknown', inplace =True)\n",
        "#inplace =True означение перезаписать содержимое\n",
        "#если inplace = False, то значение не перезапишется, а выйдет также NaN\n",
        "\n",
        "df['Age'].fillna(df['Age'].mean(), inplace=True)\n",
        "#в данном случае заполнили пропуски в столбце Age  средними значениеями (mean)\n",
        "\n",
        "print('DataFrame после заполнения пропусков:')\n",
        "print(df)"
      ],
      "metadata": {
        "colab": {
          "base_uri": "https://localhost:8080/"
        },
        "id": "u8OX8x6Nws7M",
        "outputId": "89a9d590-dd0f-4333-8636-7169256cb975"
      },
      "execution_count": null,
      "outputs": [
        {
          "output_type": "stream",
          "name": "stdout",
          "text": [
            "DataFrame после заполнения пропусков:\n",
            "      Name   Age         City\n",
            "0    Alice  24.0     New York\n",
            "1      Bob  25.5  Los Angeles\n",
            "2  Unknown  22.0      Chicago\n",
            "3    David  32.0          NaN\n",
            "4      Eve  24.0     New York\n"
          ]
        },
        {
          "output_type": "stream",
          "name": "stderr",
          "text": [
            "/tmp/ipython-input-3863245847.py:1: FutureWarning: A value is trying to be set on a copy of a DataFrame or Series through chained assignment using an inplace method.\n",
            "The behavior will change in pandas 3.0. This inplace method will never work because the intermediate object on which we are setting values always behaves as a copy.\n",
            "\n",
            "For example, when doing 'df[col].method(value, inplace=True)', try using 'df.method({col: value}, inplace=True)' or df[col] = df[col].method(value) instead, to perform the operation inplace on the original object.\n",
            "\n",
            "\n",
            "  df['Name'].fillna('Unknown', inplace =True)\n",
            "/tmp/ipython-input-3863245847.py:5: FutureWarning: A value is trying to be set on a copy of a DataFrame or Series through chained assignment using an inplace method.\n",
            "The behavior will change in pandas 3.0. This inplace method will never work because the intermediate object on which we are setting values always behaves as a copy.\n",
            "\n",
            "For example, when doing 'df[col].method(value, inplace=True)', try using 'df.method({col: value}, inplace=True)' or df[col] = df[col].method(value) instead, to perform the operation inplace on the original object.\n",
            "\n",
            "\n",
            "  df['Age'].fillna(df['Age'].mean(), inplace=True)\n"
          ]
        }
      ]
    },
    {
      "cell_type": "markdown",
      "source": [
        "# **Чтение и запись данных**"
      ],
      "metadata": {
        "id": "uS3MzAR7yCeY"
      }
    },
    {
      "cell_type": "code",
      "source": [
        "import pandas as pd\n",
        "\n",
        "#чтение данных из csv\n",
        "df = pd.read_csv('/content/output.csv')\n",
        "#своя ссылка на файл (важно, после read может быть другой формат xml  и тд, в заивисимости от формата файла)\n",
        "print(df)"
      ],
      "metadata": {
        "id": "82vF0Lk9yA-J",
        "colab": {
          "base_uri": "https://localhost:8080/"
        },
        "outputId": "c15feed2-d030-406c-c44a-b897bcebef63"
      },
      "execution_count": null,
      "outputs": [
        {
          "output_type": "stream",
          "name": "stdout",
          "text": [
            "      Name  Age         City\n",
            "0    Alice   24     New York\n",
            "1      Bob   27  Los Angeles\n",
            "2  Charlie   22      Chicago\n",
            "3    David   32      Houston\n"
          ]
        }
      ]
    },
    {
      "cell_type": "markdown",
      "source": [],
      "metadata": {
        "id": "-9m8McnlxDEA"
      }
    },
    {
      "cell_type": "markdown",
      "source": [
        "# **Запись CSV в формат xlsx**"
      ],
      "metadata": {
        "id": "FXQL4HbyN5c5"
      }
    },
    {
      "cell_type": "code",
      "source": [
        "df.to_excel('output.xlsx', index=False)\n",
        "print('\\nDataFrame сохранен в output.xlsx')"
      ],
      "metadata": {
        "colab": {
          "base_uri": "https://localhost:8080/"
        },
        "id": "ynlWN2ItOFR5",
        "outputId": "d574f54e-fb25-4536-f1fe-723412e64ebf"
      },
      "execution_count": null,
      "outputs": [
        {
          "output_type": "stream",
          "name": "stdout",
          "text": [
            "\n",
            "DataFrame сохранен в output.xlsx\n"
          ]
        }
      ]
    },
    {
      "cell_type": "markdown",
      "source": [
        "# **Сортировка данных**"
      ],
      "metadata": {
        "id": "buwl7I0LOtSh"
      }
    },
    {
      "cell_type": "code",
      "source": [
        "import pandas as pd\n",
        "data = {\n",
        "    'Name': ['Alice', 'Bob', 'Charlie', 'David'],\n",
        "    'Age': [24, 27, 22, 32],\n",
        "}\n",
        "df = pd.DataFrame(data)\n",
        "\n",
        "sorted_df = df.sort_values(by='Age')\n",
        "#values обозначение сортировки по возрастанию\n",
        "print('Отсортированный dataframe  по возрасту:')\n",
        "print(sorted_df)"
      ],
      "metadata": {
        "colab": {
          "base_uri": "https://localhost:8080/"
        },
        "id": "Oh17FexrOrkZ",
        "outputId": "3f668535-feb3-4b0a-dcbc-a923f7b17271"
      },
      "execution_count": null,
      "outputs": [
        {
          "output_type": "stream",
          "name": "stdout",
          "text": [
            "Отсортированный dataframe  по возрасту:\n",
            "      Name  Age\n",
            "2  Charlie   22\n",
            "0    Alice   24\n",
            "1      Bob   27\n",
            "3    David   32\n"
          ]
        }
      ]
    },
    {
      "cell_type": "markdown",
      "source": [
        "# **Удаление столбцов**"
      ],
      "metadata": {
        "id": "jJdZDrUSQChz"
      }
    },
    {
      "cell_type": "code",
      "source": [
        "import pandas as pd\n",
        "data = {\n",
        "    'Name': ['Alice', 'Bob', 'Charlie', 'David'],\n",
        "    'Age': [24, 27, 22, 32],\n",
        "    'City': ['New York', 'Los Angeles', 'Chicago', 'Houston']\n",
        "}\n",
        "df = pd.DataFrame(data)\n",
        "\n",
        "#удаление столбца City (после сити можно поставить , и перечислить все колонки, которые надо удалить)\n",
        "df.drop(columns=['City'], inplace=True)\n",
        "#inplase = True означет, что удаление надо также сделать в исходном DataFrame\n",
        "#inplace = False означает, что операция разовая, если вернуться к df, то удаленная колонка будет на месте\n",
        "print(' DataFrame после удаления столбца \"City\":')\n",
        "print(df)"
      ],
      "metadata": {
        "colab": {
          "base_uri": "https://localhost:8080/"
        },
        "id": "9Flv1SRTQGlJ",
        "outputId": "c908ed82-187c-42f2-d512-8cadc6a5864b"
      },
      "execution_count": null,
      "outputs": [
        {
          "output_type": "stream",
          "name": "stdout",
          "text": [
            " DataFrame после удаления столбца \"City\":\n",
            "      Name  Age\n",
            "0    Alice   24\n",
            "1      Bob   27\n",
            "2  Charlie   22\n",
            "3    David   32\n"
          ]
        }
      ]
    },
    {
      "cell_type": "markdown",
      "source": [
        "# **Применение функций к столбцам**"
      ],
      "metadata": {
        "id": "nFjCh3uIRp_Y"
      }
    },
    {
      "cell_type": "code",
      "source": [
        "import pandas as pd\n",
        "data = {\n",
        "    'Name': ['Alice', 'Bob', 'Charlie', 'David'],\n",
        "    'Age': [24, 27, 22, 32],\n",
        "    'City': ['New York', 'Los Angeles', 'Chicago', 'Houston']\n",
        "}\n",
        "df = pd.DataFrame(data)\n",
        "\n",
        "#apply  означает применить ко всем значениям из выделенной колонки\n",
        "df['Age'] = df['Age'].apply(lambda x: x + 1) #увеличение возраста на 1\n",
        "#слева - направо (сначала сработает функция +1, потом применится к df, после применится к столбцу, и новый стобец перезапишется в исходный df )\n",
        "#это вместо inplace=True\n",
        "print(' DataFrame после увеличения возраста')\n",
        "print(df)"
      ],
      "metadata": {
        "colab": {
          "base_uri": "https://localhost:8080/"
        },
        "id": "xDpeROrRRoy5",
        "outputId": "dba6e8bd-eb31-44a3-c347-7772b302abd4"
      },
      "execution_count": null,
      "outputs": [
        {
          "output_type": "stream",
          "name": "stdout",
          "text": [
            " DataFrame после увеличения возраста\n",
            "      Name  Age         City\n",
            "0    Alice   25     New York\n",
            "1      Bob   28  Los Angeles\n",
            "2  Charlie   23      Chicago\n",
            "3    David   33      Houston\n"
          ]
        }
      ]
    },
    {
      "cell_type": "markdown",
      "source": [
        "# **Объединение DataFrame**"
      ],
      "metadata": {
        "id": "69nTPk97TRYX"
      }
    },
    {
      "cell_type": "code",
      "source": [
        "import pandas as pd\n",
        "df1 = pd.DataFrame({'Name': ['Alice', 'Bob'], 'Age': [24, 27]})\n",
        "df2 = pd.DataFrame({'Name': ['Charlie', 'David'], 'Age': [22, 32]})\n",
        "\n",
        "combined_df = pd.concat([df1, df2], ignore_index=True)\n",
        "print('Объединенный DataFrame:')\n",
        "print(combined_df)\n",
        "\n",
        "#если система не найдет по каким критериям объединить, то запишет датафреймы друг под другом\n",
        "#после concat в скобках прописан df1 а потом df2, поэтому идут сначала значения из df1\n",
        "#ignore_index = True значит игнорируем порядковые номера и перезаписываем заново"
      ],
      "metadata": {
        "colab": {
          "base_uri": "https://localhost:8080/"
        },
        "id": "FqWmBa64TZcI",
        "outputId": "887a7b29-0255-4611-e9fa-cf5d1d99ca80"
      },
      "execution_count": null,
      "outputs": [
        {
          "output_type": "stream",
          "name": "stdout",
          "text": [
            "Объединенный DataFrame:\n",
            "      Name  Age\n",
            "0    Alice   24\n",
            "1      Bob   27\n",
            "2  Charlie   22\n",
            "3    David   32\n"
          ]
        }
      ]
    },
    {
      "cell_type": "markdown",
      "source": [
        "# **Использование pivot_table**"
      ],
      "metadata": {
        "id": "24aXv9QRU5B6"
      }
    },
    {
      "cell_type": "code",
      "source": [
        "import pandas as pd\n",
        "data = {\n",
        "    'Date': ['2021-01-01', '2021-01-01', '2021-01-02', '2021-01-02'],\n",
        "    'Product': ['A', 'B', 'A', 'B'],\n",
        "    'Sales': [100, 200, 150, 250]\n",
        "}\n",
        "\n",
        "df = pd.DataFrame(data)\n",
        "\n",
        "#создание сводной таблицы\n",
        "pivot_table = df.pivot_table(values='Sales', index='Date', columns='Product', aggfunc = 'sum', fill_value=0)\n",
        "print('Сводная таблица')\n",
        "print(pivot_table)\n"
      ],
      "metadata": {
        "colab": {
          "base_uri": "https://localhost:8080/"
        },
        "id": "3EM_tkfAVEUR",
        "outputId": "aaac8606-0dfa-4691-c291-b5e91732708b"
      },
      "execution_count": null,
      "outputs": [
        {
          "output_type": "stream",
          "name": "stdout",
          "text": [
            "Сводная таблица\n",
            "Product       A    B\n",
            "Date                \n",
            "2021-01-01  100  200\n",
            "2021-01-02  150  250\n"
          ]
        }
      ]
    },
    {
      "cell_type": "markdown",
      "source": [
        "# **Слияние DataFrame**"
      ],
      "metadata": {
        "id": "6URguaO-XGcH"
      }
    },
    {
      "cell_type": "code",
      "source": [
        "import pandas as pd\n",
        "df1 = pd.DataFrame({'Name': ['Alice', 'Bob'], 'City': ['New York', 'Los Angeles']})\n",
        "df2 = pd.DataFrame({'Name': ['Charlie', 'David'], 'City': ['Chicago', 'Houston']})\n",
        "\n",
        "#слияние по имени\n",
        "#вместо outer (берет вообще все что есть) можеть быть left, right, inner\n",
        "merged_df = pd.merge(df1, df2, on = 'Name', how = 'outer')\n",
        "print('Слияние DataFrame')\n",
        "print(merged_df)\n"
      ],
      "metadata": {
        "colab": {
          "base_uri": "https://localhost:8080/"
        },
        "id": "3TmcPeUuXK7O",
        "outputId": "a7c00a3a-592a-4145-8c33-1050d8e3be94"
      },
      "execution_count": null,
      "outputs": [
        {
          "output_type": "stream",
          "name": "stdout",
          "text": [
            "Слияние DataFrame\n",
            "      Name       City_x   City_y\n",
            "0    Alice     New York      NaN\n",
            "1      Bob  Los Angeles      NaN\n",
            "2  Charlie          NaN  Chicago\n",
            "3    David          NaN  Houston\n"
          ]
        }
      ]
    },
    {
      "cell_type": "markdown",
      "source": [
        "# **Numpy**"
      ],
      "metadata": {
        "id": "ipoWCbnnYYqc"
      }
    },
    {
      "cell_type": "code",
      "source": [
        "import numpy as np\n",
        "\n",
        "#создаем массив\n",
        "array = np.array([1, 2, 3, 4, 5])\n",
        "\n",
        "#выполнение операций\n",
        "mean_value = np.mean(array) #среднее значение по всему списку\n",
        "sum_value = np.sum(array) #сумма всех значений\n",
        "max_value = np.max(array)\n",
        "min_value = np.min(array)\n",
        "\n",
        "print(f'Массив: {array}')\n",
        "print(f'Среднее значение: {mean_value}')\n",
        "print(f'Сумма: {sum_value}')\n",
        "print(f'Максимальное значение: {max_value}')\n",
        "print(f'Минимальное значение: {min_value}')\n"
      ],
      "metadata": {
        "colab": {
          "base_uri": "https://localhost:8080/"
        },
        "id": "-oRwChePYnVG",
        "outputId": "1dacbdc7-2782-4b32-b519-53488bf137ae"
      },
      "execution_count": null,
      "outputs": [
        {
          "output_type": "stream",
          "name": "stdout",
          "text": [
            "Массив: [1 2 3 4 5]\n",
            "Среднее значение: 3.0\n",
            "Сумма: 15\n",
            "Максимальное значение: 5\n",
            "Минимальное значение: 1\n"
          ]
        }
      ]
    },
    {
      "cell_type": "markdown",
      "source": [
        "# **Numpy - мат операции с массивами**"
      ],
      "metadata": {
        "id": "1OrlgR0RaAuW"
      }
    },
    {
      "cell_type": "code",
      "source": [
        "import numpy as np\n",
        "\n",
        "#создаем массив\n",
        "array1 = np.array([1, 2, 3, 4])\n",
        "array2 = np.array([5, 6, 7, 8])\n",
        "\n",
        "#выполнение разл операций\n",
        "addition = array1 + array2\n",
        "multiplication = array1 * array2\n",
        "\n",
        "#векторное умножение матриц\n",
        "dot_product = np.dot(array1, array2)\n",
        "print(f'Первый массив: {array1}')\n",
        "print(f'Второй массив: {array2}')\n",
        "print(f'Сумма массивов: {addition}')\n",
        "print(f'Произведение массивов: {multiplication}')\n",
        "print(f'Скалярное произведение массивов: {dot_product}')"
      ],
      "metadata": {
        "colab": {
          "base_uri": "https://localhost:8080/"
        },
        "id": "ra1oVQ4raFTa",
        "outputId": "e7741fbe-e81d-47bb-ea21-84f53c874cad"
      },
      "execution_count": null,
      "outputs": [
        {
          "output_type": "stream",
          "name": "stdout",
          "text": [
            "Первый массив: [1 2 3 4]\n",
            "Второй массив: [5 6 7 8]\n",
            "Сумма массивов: [ 6  8 10 12]\n",
            "Произведение массивов: [ 5 12 21 32]\n",
            "Скалярное произведение массивов: 70\n"
          ]
        }
      ]
    },
    {
      "cell_type": "markdown",
      "source": [
        "# **Numpy - - генерация случайных чисел**"
      ],
      "metadata": {
        "id": "oFkJIyoVbH4A"
      }
    },
    {
      "cell_type": "code",
      "source": [
        "import numpy as np\n",
        "\n",
        "random_array = np.random.rand(5) #5 случайных чисел от 0 до 1\n",
        "random_int_array = np.random.randint(1, 10, size=5) # 5 случайных чисел от 1 до 10\n",
        "\n",
        "print(f'Массив случайных чисел: {random_array}')\n",
        "print(f'Массив случайных целых чисел: {random_int_array}')"
      ],
      "metadata": {
        "colab": {
          "base_uri": "https://localhost:8080/"
        },
        "id": "UjMAveRQbUVm",
        "outputId": "27c9bf7b-056a-4f20-a278-8572a8359010"
      },
      "execution_count": null,
      "outputs": [
        {
          "output_type": "stream",
          "name": "stdout",
          "text": [
            "Массив случайных чисел: [0.09265999 0.43463816 0.21075732 0.49866623 0.40879788]\n",
            "Массив случайных целых чисел: [2 8 4 4 1]\n"
          ]
        }
      ]
    },
    {
      "cell_type": "markdown",
      "source": [
        "# **Изменение формы массивов**"
      ],
      "metadata": {
        "id": "qN7VP-5Mcf1t"
      }
    },
    {
      "cell_type": "code",
      "source": [
        "import numpy as np\n",
        "\n",
        "#создание одномерного массива\n",
        "array = np.array([1, 2, 3, 4, 5, 6])\n",
        "\n",
        "#изменение формы массива 2строки х 3столбца\n",
        "reshaped_array = array.reshape(2,3)\n",
        "print('Измененный массив')\n",
        "print(reshaped_array)"
      ],
      "metadata": {
        "colab": {
          "base_uri": "https://localhost:8080/"
        },
        "id": "4pDdS6lacqGF",
        "outputId": "0e8c6c2c-eeaa-4781-c71a-828546721abe"
      },
      "execution_count": null,
      "outputs": [
        {
          "output_type": "stream",
          "name": "stdout",
          "text": [
            "Измененный массив\n",
            "[[1 2 3]\n",
            " [4 5 6]]\n"
          ]
        }
      ]
    },
    {
      "cell_type": "markdown",
      "source": [
        "# **Копирование массивов**"
      ],
      "metadata": {
        "id": "WJ5hpM00dMU7"
      }
    },
    {
      "cell_type": "code",
      "source": [
        "import numpy as np\n",
        "\n",
        "#создание одномерного массива\n",
        "array = np.array([1, 2, 3, 4])\n",
        "\n",
        "#копирование массива (при этом исходный массив сохранился)\n",
        "array_copy = array.copy()\n",
        "array_copy[0] = -10 # в квадратных скобках идет обращение к первому элементу.  отсчет идет от 0\n",
        "\n",
        "print(f'Оригинальный массив: {array}')\n",
        "print(f'Копия массива: {array_copy}')\n"
      ],
      "metadata": {
        "colab": {
          "base_uri": "https://localhost:8080/"
        },
        "id": "q-Z9cuVodPIo",
        "outputId": "a7174d6b-dfc9-477b-ed81-a3f0e6722fab"
      },
      "execution_count": null,
      "outputs": [
        {
          "output_type": "stream",
          "name": "stdout",
          "text": [
            "Оригинальный массив: [1 2 3 4]\n",
            "Копия массива: [-10   2   3   4]\n"
          ]
        }
      ]
    },
    {
      "cell_type": "markdown",
      "source": [
        "# **Фильтрация массивов**"
      ],
      "metadata": {
        "id": "eQlTYFY8eFY5"
      }
    },
    {
      "cell_type": "code",
      "source": [
        "import numpy as np\n",
        "\n",
        "#создание одномерного массива\n",
        "array = np.array([1, 2, 3, 4, 5, 6])\n",
        "\n",
        "#фильтрация: набор четных чисел\n",
        "even_numbers = array[array % 2 == 0]\n",
        "print(f'четные числа из массива:')\n",
        "print(even_numbers)\n"
      ],
      "metadata": {
        "colab": {
          "base_uri": "https://localhost:8080/"
        },
        "id": "n_x8GScEr23N",
        "outputId": "b094e59c-84cc-47ef-945d-4296b6a1e570"
      },
      "execution_count": 2,
      "outputs": [
        {
          "output_type": "stream",
          "name": "stdout",
          "text": [
            "четные числа из массива:\n",
            "[2 4 6]\n"
          ]
        }
      ]
    },
    {
      "cell_type": "markdown",
      "source": [
        "# **Статистические функции**"
      ],
      "metadata": {
        "id": "PJMrZQ5YsZXC"
      }
    },
    {
      "cell_type": "code",
      "source": [
        "import numpy as np\n",
        "\n",
        "#создание одномерного массива\n",
        "array = np.array([1, 2, 3, 4, 5])\n",
        "\n",
        "#вычисление статистики\n",
        "mean_value = np.mean(array)\n",
        "std_value = np.std(array) #стандартное отклонение\n",
        "var_value = np.var(array) #дисперсия\n",
        "\n",
        "print(f'Среднее значение: {mean_value}')\n",
        "print(f'Стандартное отклонение: {std_value}')\n",
        "print(f'Дисперсия: {var_value}')"
      ],
      "metadata": {
        "colab": {
          "base_uri": "https://localhost:8080/"
        },
        "id": "GamvMxrlsclm",
        "outputId": "da733c67-c78b-49b6-9f6f-c0f206823ce6"
      },
      "execution_count": 3,
      "outputs": [
        {
          "output_type": "stream",
          "name": "stdout",
          "text": [
            "Среднее значение: 3.0\n",
            "Стандартное отклонение: 1.4142135623730951\n",
            "Дисперсия: 2.0\n"
          ]
        }
      ]
    },
    {
      "cell_type": "markdown",
      "source": [
        "# **Сложение массивов**"
      ],
      "metadata": {
        "id": "jJe0Ukkwtd--"
      }
    },
    {
      "cell_type": "code",
      "source": [
        "import numpy as np\n",
        "\n",
        "#создаем массив\n",
        "array1 = np.array([1, 2, 3, 4])\n",
        "array2 = np.array([5, 6, 7, 8])\n",
        "\n",
        "#выполнение разл операций\n",
        "addition = array1 + array2\n",
        "\n",
        "print(f'Сумма массивов: {addition}')"
      ],
      "metadata": {
        "colab": {
          "base_uri": "https://localhost:8080/"
        },
        "id": "duHX5rj4tckV",
        "outputId": "416de922-5996-4bb7-b739-cf4bd448b082"
      },
      "execution_count": 4,
      "outputs": [
        {
          "output_type": "stream",
          "name": "stdout",
          "text": [
            "Сумма массивов: [ 6  8 10 12]\n"
          ]
        }
      ]
    },
    {
      "cell_type": "markdown",
      "source": [
        "# **Индексация и срезы**"
      ],
      "metadata": {
        "id": "WKz3RNAIt5wV"
      }
    },
    {
      "cell_type": "code",
      "source": [
        "import numpy as np\n",
        "\n",
        "#создание одномерного массива\n",
        "array = np.array([1, 2, 3, 4, 5])\n",
        "\n",
        "#Индексация и срезы (указываем с какого по какой значения)\n",
        "slice_array = array[1:4] #срез с 1 по 3 индекс\n",
        "print(f'Срез массива:{array}')\n",
        "print(slice_array)"
      ],
      "metadata": {
        "colab": {
          "base_uri": "https://localhost:8080/"
        },
        "id": "vWWV-XztuAJ3",
        "outputId": "900ff465-9fbb-4e6f-eaf2-cfc192f4564f"
      },
      "execution_count": 5,
      "outputs": [
        {
          "output_type": "stream",
          "name": "stdout",
          "text": [
            "Срез массива:[1 2 3 4 5]\n",
            "[2 3 4]\n"
          ]
        }
      ]
    },
    {
      "cell_type": "markdown",
      "source": [
        "# **Матричные операции**"
      ],
      "metadata": {
        "id": "H1RNIYrlui59"
      }
    },
    {
      "cell_type": "code",
      "source": [
        "import numpy as np\n",
        "\n",
        "#создание одномерного массива\n",
        "matrix1 = np.array([[1, 2], [3, 4]])\n",
        "matrix2 = np.array([[3, 7], [4, 8]])\n",
        "\n",
        "#матричное умножение\n",
        "result = np.dot(matrix1, matrix2)\n",
        "print('Результат матричного умножения')\n",
        "print(result)"
      ],
      "metadata": {
        "colab": {
          "base_uri": "https://localhost:8080/"
        },
        "id": "mTnrnMAJulyr",
        "outputId": "80858bc0-a8c4-4209-a95c-88fa6181e74d"
      },
      "execution_count": 6,
      "outputs": [
        {
          "output_type": "stream",
          "name": "stdout",
          "text": [
            "Результат матричного умножения\n",
            "[[11 23]\n",
            " [25 53]]\n"
          ]
        }
      ]
    }
  ]
}